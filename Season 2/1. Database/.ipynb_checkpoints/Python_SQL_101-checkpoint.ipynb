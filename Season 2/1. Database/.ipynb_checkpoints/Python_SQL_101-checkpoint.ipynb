{
 "cells": [
  {
   "cell_type": "code",
   "execution_count": 1,
   "metadata": {},
   "outputs": [],
   "source": [
    "# Initial Settings.\n",
    "\n",
    "import os, inspect\n",
    "import sqlite3\n",
    "import pandas as pd\n",
    "\n",
    "path = os.path.dirname(os.path.abspath(inspect.getfile(inspect.currentframe())))\n",
    "os.chdir(path)"
   ]
  },
  {
   "cell_type": "code",
   "execution_count": 2,
   "metadata": {},
   "outputs": [],
   "source": [
    "# Connect DB\n",
    "\n",
    "conn = sqlite3.connect('DB_ver_1.1.db')  # Database 연결 (없는 경우 생성까지)\n",
    "c = conn.cursor()  # you can create a Cursor object and call its (데이터 추출 뿐 아니라 입력, 수정 등에 사용하기 위한 메소드)"
   ]
  },
  {
   "cell_type": "code",
   "execution_count": 3,
   "metadata": {},
   "outputs": [],
   "source": [
    "df = pd.read_sql_query(\"select * from econ;\", conn)  # SQL 쿼리 실행하는 경우"
   ]
  },
  {
   "cell_type": "code",
   "execution_count": 4,
   "metadata": {},
   "outputs": [
    {
     "data": {
      "text/html": [
       "<div>\n",
       "<style scoped>\n",
       "    .dataframe tbody tr th:only-of-type {\n",
       "        vertical-align: middle;\n",
       "    }\n",
       "\n",
       "    .dataframe tbody tr th {\n",
       "        vertical-align: top;\n",
       "    }\n",
       "\n",
       "    .dataframe thead th {\n",
       "        text-align: right;\n",
       "    }\n",
       "</style>\n",
       "<table border=\"1\" class=\"dataframe\">\n",
       "  <thead>\n",
       "    <tr style=\"text-align: right;\">\n",
       "      <th></th>\n",
       "      <th>index</th>\n",
       "      <th>date</th>\n",
       "      <th>ticker</th>\n",
       "      <th>value</th>\n",
       "    </tr>\n",
       "  </thead>\n",
       "  <tbody>\n",
       "    <tr>\n",
       "      <th>0</th>\n",
       "      <td>0</td>\n",
       "      <td>20190411</td>\n",
       "      <td>EIADIST</td>\n",
       "      <td>128053.0000</td>\n",
       "    </tr>\n",
       "    <tr>\n",
       "      <th>1</th>\n",
       "      <td>1</td>\n",
       "      <td>20190411</td>\n",
       "      <td>TKBLRON</td>\n",
       "      <td>25.5000</td>\n",
       "    </tr>\n",
       "    <tr>\n",
       "      <th>2</th>\n",
       "      <td>2</td>\n",
       "      <td>20190411</td>\n",
       "      <td>CNCOMMF</td>\n",
       "      <td>1.7477</td>\n",
       "    </tr>\n",
       "    <tr>\n",
       "      <th>3</th>\n",
       "      <td>3</td>\n",
       "      <td>20190411</td>\n",
       "      <td>LCBBASE</td>\n",
       "      <td>0.7500</td>\n",
       "    </tr>\n",
       "    <tr>\n",
       "      <th>4</th>\n",
       "      <td>4</td>\n",
       "      <td>20190411</td>\n",
       "      <td>JPCALLT</td>\n",
       "      <td>-0.1000</td>\n",
       "    </tr>\n",
       "  </tbody>\n",
       "</table>\n",
       "</div>"
      ],
      "text/plain": [
       "   index      date   ticker        value\n",
       "0      0  20190411  EIADIST  128053.0000\n",
       "1      1  20190411  TKBLRON      25.5000\n",
       "2      2  20190411  CNCOMMF       1.7477\n",
       "3      3  20190411  LCBBASE       0.7500\n",
       "4      4  20190411  JPCALLT      -0.1000"
      ]
     },
     "execution_count": 4,
     "metadata": {},
     "output_type": "execute_result"
    }
   ],
   "source": [
    "df.head()"
   ]
  },
  {
   "cell_type": "markdown",
   "metadata": {},
   "source": [
    "< Sample Queries >\n",
    "\n",
    "SELECT * FROM econ;\n",
    "\n",
    "SELECT date FROM econ;\n",
    "\n",
    "SELECT date dt FROM econ;\n",
    "\n",
    "SELECT * FROM econ WHERE date = 20190411;\n",
    "\n",
    "SELECT * FROM econ\n",
    "WHERE date > 20190801 AND ticker = 'USFEFRH';\n",
    "\n",
    "SELECT * FROM econ \n",
    "WHERE ticker = 'USFEFRH' ORDER BY date DESC;\n",
    "\n",
    "SELECT * FROM econ\n",
    "WHERE date > 20190801 AND ticker = 'USFEFRH'\n",
    "ORDER BY date DESC;\n",
    "\n",
    "SELECT date, ticker, value FROM econ\n",
    "WHERE date > 20190801 AND ticker = 'USFEFRH'\n",
    "ORDER BY date DESC;"
   ]
  },
  {
   "cell_type": "code",
   "execution_count": 5,
   "metadata": {},
   "outputs": [
    {
     "data": {
      "text/html": [
       "<div>\n",
       "<style scoped>\n",
       "    .dataframe tbody tr th:only-of-type {\n",
       "        vertical-align: middle;\n",
       "    }\n",
       "\n",
       "    .dataframe tbody tr th {\n",
       "        vertical-align: top;\n",
       "    }\n",
       "\n",
       "    .dataframe thead th {\n",
       "        text-align: right;\n",
       "    }\n",
       "</style>\n",
       "<table border=\"1\" class=\"dataframe\">\n",
       "  <thead>\n",
       "    <tr style=\"text-align: right;\">\n",
       "      <th></th>\n",
       "      <th>date</th>\n",
       "      <th>ticker</th>\n",
       "      <th>value</th>\n",
       "    </tr>\n",
       "  </thead>\n",
       "  <tbody>\n",
       "    <tr>\n",
       "      <th>0</th>\n",
       "      <td>20190829</td>\n",
       "      <td>USFEFRH</td>\n",
       "      <td>2.25</td>\n",
       "    </tr>\n",
       "    <tr>\n",
       "      <th>1</th>\n",
       "      <td>20190828</td>\n",
       "      <td>USFEFRH</td>\n",
       "      <td>2.25</td>\n",
       "    </tr>\n",
       "    <tr>\n",
       "      <th>2</th>\n",
       "      <td>20190827</td>\n",
       "      <td>USFEFRH</td>\n",
       "      <td>2.25</td>\n",
       "    </tr>\n",
       "    <tr>\n",
       "      <th>3</th>\n",
       "      <td>20190826</td>\n",
       "      <td>USFEFRH</td>\n",
       "      <td>2.25</td>\n",
       "    </tr>\n",
       "    <tr>\n",
       "      <th>4</th>\n",
       "      <td>20190823</td>\n",
       "      <td>USFEFRH</td>\n",
       "      <td>2.25</td>\n",
       "    </tr>\n",
       "  </tbody>\n",
       "</table>\n",
       "</div>"
      ],
      "text/plain": [
       "       date   ticker  value\n",
       "0  20190829  USFEFRH   2.25\n",
       "1  20190828  USFEFRH   2.25\n",
       "2  20190827  USFEFRH   2.25\n",
       "3  20190826  USFEFRH   2.25\n",
       "4  20190823  USFEFRH   2.25"
      ]
     },
     "execution_count": 5,
     "metadata": {},
     "output_type": "execute_result"
    }
   ],
   "source": [
    "qry = \"SELECT date, ticker, value FROM econ WHERE date > 20190801 AND ticker = 'USFEFRH' ORDER BY date DESC;\"\n",
    "\n",
    "df = pd.read_sql_query(qry, conn)\n",
    "df.head()"
   ]
  },
  {
   "cell_type": "code",
   "execution_count": 6,
   "metadata": {},
   "outputs": [
    {
     "data": {
      "text/html": [
       "<div>\n",
       "<style scoped>\n",
       "    .dataframe tbody tr th:only-of-type {\n",
       "        vertical-align: middle;\n",
       "    }\n",
       "\n",
       "    .dataframe tbody tr th {\n",
       "        vertical-align: top;\n",
       "    }\n",
       "\n",
       "    .dataframe thead th {\n",
       "        text-align: right;\n",
       "    }\n",
       "</style>\n",
       "<table border=\"1\" class=\"dataframe\">\n",
       "  <thead>\n",
       "    <tr style=\"text-align: right;\">\n",
       "      <th></th>\n",
       "      <th>date</th>\n",
       "      <th>ticker</th>\n",
       "      <th>value</th>\n",
       "    </tr>\n",
       "  </thead>\n",
       "  <tbody>\n",
       "    <tr>\n",
       "      <th>0</th>\n",
       "      <td>20190829</td>\n",
       "      <td>USFEFRH</td>\n",
       "      <td>2.25</td>\n",
       "    </tr>\n",
       "    <tr>\n",
       "      <th>1</th>\n",
       "      <td>20190829</td>\n",
       "      <td>USFEFRL</td>\n",
       "      <td>2.00</td>\n",
       "    </tr>\n",
       "    <tr>\n",
       "      <th>2</th>\n",
       "      <td>20190828</td>\n",
       "      <td>USFEFRL</td>\n",
       "      <td>2.00</td>\n",
       "    </tr>\n",
       "    <tr>\n",
       "      <th>3</th>\n",
       "      <td>20190828</td>\n",
       "      <td>USFEFRH</td>\n",
       "      <td>2.25</td>\n",
       "    </tr>\n",
       "    <tr>\n",
       "      <th>4</th>\n",
       "      <td>20190827</td>\n",
       "      <td>USFEFRH</td>\n",
       "      <td>2.25</td>\n",
       "    </tr>\n",
       "  </tbody>\n",
       "</table>\n",
       "</div>"
      ],
      "text/plain": [
       "       date   ticker  value\n",
       "0  20190829  USFEFRH   2.25\n",
       "1  20190829  USFEFRL   2.00\n",
       "2  20190828  USFEFRL   2.00\n",
       "3  20190828  USFEFRH   2.25\n",
       "4  20190827  USFEFRH   2.25"
      ]
     },
     "execution_count": 6,
     "metadata": {},
     "output_type": "execute_result"
    }
   ],
   "source": [
    "qry = \"SELECT date, ticker, value FROM econ WHERE date > 20190801 AND ticker IN ('USFEFRH', 'USFEFRL') ORDER BY date DESC;\"\n",
    "\n",
    "df = pd.read_sql_query(qry, conn)\n",
    "df.head()"
   ]
  },
  {
   "cell_type": "code",
   "execution_count": 7,
   "metadata": {},
   "outputs": [
    {
     "name": "stdout",
     "output_type": "stream",
     "text": [
      "ticker    USFEFRH  USFEFRL\n",
      "date                      \n",
      "20190802     2.25      2.0\n",
      "20190805     2.25      2.0\n",
      "20190806     2.25      2.0\n",
      "20190807     2.25      2.0\n",
      "20190808     2.25      2.0\n",
      "20190809     2.25      2.0\n",
      "20190812     2.25      2.0\n",
      "20190813     2.25      2.0\n",
      "20190814     2.25      2.0\n",
      "20190815     2.25      2.0\n",
      "20190816     2.25      2.0\n",
      "20190819     2.25      2.0\n",
      "20190820     2.25      2.0\n",
      "20190821     2.25      2.0\n",
      "20190822     2.25      2.0\n",
      "20190823     2.25      2.0\n",
      "20190826     2.25      2.0\n",
      "20190827     2.25      2.0\n",
      "20190828     2.25      2.0\n",
      "20190829     2.25      2.0\n"
     ]
    }
   ],
   "source": [
    "df = df.pivot(index = 'date', columns = 'ticker', values = 'value')\n",
    "print(df)"
   ]
  },
  {
   "cell_type": "code",
   "execution_count": null,
   "metadata": {},
   "outputs": [],
   "source": [
    "df =        # \"BETWEEN 시작지점 AND 종료지점\" 과 같은 형태의 쿼리 이용\n",
    "              # 2019년 6~8월의 미국 기준금리 상단 및 하단을 최근 데이터가 위로 오도록 추출 (ticker = \"USFEFRH\", \"USFEFRL\")\n",
    "\n",
    "print(df)"
   ]
  },
  {
   "cell_type": "markdown",
   "metadata": {},
   "source": [
    "더 다양한 쿼리들은 아래 Tutorial 에서 직접 연습 가능\n",
    "\n",
    "https://www.sqlitetutorial.net/"
   ]
  }
 ],
 "metadata": {
  "kernelspec": {
   "display_name": "Python 3",
   "language": "python",
   "name": "python3"
  },
  "language_info": {
   "codemirror_mode": {
    "name": "ipython",
    "version": 3
   },
   "file_extension": ".py",
   "mimetype": "text/x-python",
   "name": "python",
   "nbconvert_exporter": "python",
   "pygments_lexer": "ipython3",
   "version": "3.7.3"
  }
 },
 "nbformat": 4,
 "nbformat_minor": 2
}
