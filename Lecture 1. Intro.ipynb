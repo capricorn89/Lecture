{
 "cells": [
  {
   "cell_type": "markdown",
   "metadata": {},
   "source": [
    "### Preliminaries\n",
    "https://github.com/wesm/pydata-book  (Chapter 2 ~ 5)\n",
    "\n",
    "https://automatetheboringstuff.com/\n",
    "\n",
    "https://www.datacamp.com/courses/intro-to-python-for-data-science\n",
    "\n",
    "https://www.datacamp.com/courses/intermediate-python-for-data-science\n",
    "\n",
    "### References\n",
    "* https://github.com/lovablebaby/DataScience/blob/master/%5BPython%5DpyconTutorial_2018/.ipynb_checkpoints/timeSeriesAnalysis-checkpoint.ipynb\n",
    "* https://medium.com/@steven_wang/exploring-stock-price-movements-after-major-events-8b35c318ba76\n",
    "\n"
   ]
  },
  {
   "cell_type": "markdown",
   "metadata": {},
   "source": [
    "### \"Hello world\""
   ]
  },
  {
   "cell_type": "code",
   "execution_count": 1,
   "metadata": {},
   "outputs": [
    {
     "name": "stdout",
     "output_type": "stream",
     "text": [
      "hello world\n"
     ]
    }
   ],
   "source": [
    "print('hello world')"
   ]
  },
  {
   "cell_type": "code",
   "execution_count": null,
   "metadata": {},
   "outputs": [],
   "source": []
  },
  {
   "cell_type": "code",
   "execution_count": null,
   "metadata": {},
   "outputs": [],
   "source": [
    "# Calculator\n",
    "\n",
    "\n",
    "# 연산기호 ( + , - , * , /, %, **)\n"
   ]
  },
  {
   "cell_type": "code",
   "execution_count": null,
   "metadata": {},
   "outputs": [],
   "source": [
    "# True or False\n"
   ]
  },
  {
   "cell_type": "code",
   "execution_count": null,
   "metadata": {},
   "outputs": [],
   "source": [
    "# List, Tuple, Dictionary\n",
    "RQP = []\n",
    "#RQP = ()\n",
    "#RQP = {}"
   ]
  },
  {
   "cell_type": "code",
   "execution_count": null,
   "metadata": {},
   "outputs": [],
   "source": [
    "# append\n",
    "RQP.append('차차')"
   ]
  },
  {
   "cell_type": "code",
   "execution_count": null,
   "metadata": {},
   "outputs": [],
   "source": [
    "RQP"
   ]
  },
  {
   "cell_type": "code",
   "execution_count": null,
   "metadata": {},
   "outputs": [],
   "source": [
    "# Loop\n",
    "for i in range(10):\n",
    "    print(i)\n"
   ]
  },
  {
   "cell_type": "code",
   "execution_count": null,
   "metadata": {},
   "outputs": [],
   "source": [
    "numbers = []\n",
    "for i in range(10):\n",
    "    numbers.append(i*2)\n",
    "    "
   ]
  },
  {
   "cell_type": "code",
   "execution_count": null,
   "metadata": {},
   "outputs": [],
   "source": [
    "numbers"
   ]
  },
  {
   "cell_type": "code",
   "execution_count": 2,
   "metadata": {},
   "outputs": [],
   "source": [
    "# List comprehension\n",
    "numbers_new = [i*2 for i in range(10)]\n"
   ]
  },
  {
   "cell_type": "code",
   "execution_count": null,
   "metadata": {},
   "outputs": [],
   "source": [
    "numbers_new"
   ]
  },
  {
   "cell_type": "code",
   "execution_count": null,
   "metadata": {},
   "outputs": [],
   "source": [
    "# Condition\n"
   ]
  },
  {
   "cell_type": "code",
   "execution_count": null,
   "metadata": {},
   "outputs": [],
   "source": [
    "# Function\n"
   ]
  },
  {
   "cell_type": "code",
   "execution_count": null,
   "metadata": {},
   "outputs": [],
   "source": [
    "# n의 약수 print\n"
   ]
  },
  {
   "cell_type": "code",
   "execution_count": null,
   "metadata": {},
   "outputs": [],
   "source": [
    "# Exercise 3. Union & Intersection\n",
    "a = [1, 1, 2, 3, 5, 8, 13, 21, 34, 46, 56, 88, 91]\n",
    "b = [1, 2, 3, 4, 5, 6, 7, 8, 21, 22, 45, 91]"
   ]
  },
  {
   "cell_type": "code",
   "execution_count": null,
   "metadata": {},
   "outputs": [],
   "source": [
    "# Find Union\n",
    "def uni(a,b):\n",
    "   set1 = set(a)\n",
    "   set2 = set(b)\n",
    "   print('All list: ', sorted(set1.union(set2)))\n",
    "\n",
    "# Find intersection\n",
    "def inter(a,b):\n",
    "   set1 = set(a)\n",
    "   set2 = set(b)\n",
    "   print('Common list: ', sorted(set1.intersection(set2)))\n"
   ]
  },
  {
   "cell_type": "code",
   "execution_count": null,
   "metadata": {},
   "outputs": [],
   "source": [
    "uni(a,b)\n"
   ]
  },
  {
   "cell_type": "code",
   "execution_count": null,
   "metadata": {},
   "outputs": [],
   "source": [
    "inter(a,b)"
   ]
  },
  {
   "cell_type": "code",
   "execution_count": null,
   "metadata": {},
   "outputs": [],
   "source": [
    "# Numpy\n"
   ]
  },
  {
   "cell_type": "code",
   "execution_count": null,
   "metadata": {},
   "outputs": [],
   "source": [
    "# 난수 생성하기 (Numpy 이용)\n",
    "data = np.random.randn(2, 2)\n",
    "print(data)"
   ]
  },
  {
   "cell_type": "code",
   "execution_count": null,
   "metadata": {},
   "outputs": [],
   "source": []
  },
  {
   "cell_type": "code",
   "execution_count": null,
   "metadata": {},
   "outputs": [],
   "source": []
  },
  {
   "cell_type": "code",
   "execution_count": null,
   "metadata": {},
   "outputs": [],
   "source": []
  },
  {
   "cell_type": "markdown",
   "metadata": {},
   "source": [
    "def list_a(n):\n",
    "    a = []\n",
    "    for x in range(1,n+1):\n",
    "        if n%x == 0:\n",
    "            a.append(x)\n",
    "    return a\n",
    "    \n",
    "    \n",
    "    # Func. Value weighted average return\n",
    "\n",
    "import numpy as np\n",
    "\n",
    "def vwav(comsize, comreturn):\n",
    "    c_size = np.array(comsize)\n",
    "    c_size.shape = (1,np.size(c_size))\n",
    "    c_return = np.array(comreturn)\n",
    "    c_return.shape = (np.size(c_return),1)\n",
    "    sum_size = c_size.sum()\n",
    "    rel_size = c_size / sum_size\n",
    "    wav = np.dot(rel_size,c_return)\n",
    "    return wav"
   ]
  }
 ],
 "metadata": {
  "kernelspec": {
   "display_name": "Python 3",
   "language": "python",
   "name": "python3"
  },
  "language_info": {
   "codemirror_mode": {
    "name": "ipython",
    "version": 3
   },
   "file_extension": ".py",
   "mimetype": "text/x-python",
   "name": "python",
   "nbconvert_exporter": "python",
   "pygments_lexer": "ipython3",
   "version": "3.7.1"
  }
 },
 "nbformat": 4,
 "nbformat_minor": 2
}
