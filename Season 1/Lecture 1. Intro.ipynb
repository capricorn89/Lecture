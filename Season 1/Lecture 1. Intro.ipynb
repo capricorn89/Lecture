{
 "cells": [
  {
   "cell_type": "markdown",
   "metadata": {},
   "source": [
    "### Preliminaries\n",
    "1. https://github.com/wesm/pydata-book  (Chapter 2 ~ 5)\n",
    "\n",
    "2. https://automatetheboringstuff.com/\n",
    "\n",
    "3. https://www.datacamp.com/courses/intro-to-python-for-data-science\n",
    "\n",
    "4. https://www.datacamp.com/courses/intermediate-python-for-data-science\n",
    "\n",
    "### References\n",
    "* https://github.com/lovablebaby/DataScience/blob/master/%5BPython%5DpyconTutorial_2018/.ipynb_checkpoints/timeSeriesAnalysis-checkpoint.ipynb\n",
    "* https://medium.com/@steven_wang/exploring-stock-price-movements-after-major-events-8b35c318ba76\n",
    "\n"
   ]
  },
  {
   "cell_type": "markdown",
   "metadata": {},
   "source": [
    "### \"Hello world\""
   ]
  },
  {
   "cell_type": "code",
   "execution_count": 2,
   "metadata": {},
   "outputs": [
    {
     "name": "stdout",
     "output_type": "stream",
     "text": [
      "hello world\n"
     ]
    }
   ],
   "source": [
    "print('hello world')"
   ]
  },
  {
   "cell_type": "code",
   "execution_count": 3,
   "metadata": {},
   "outputs": [
    {
     "data": {
      "text/plain": [
       "5"
      ]
     },
     "execution_count": 3,
     "metadata": {},
     "output_type": "execute_result"
    }
   ],
   "source": [
    "2+3"
   ]
  },
  {
   "cell_type": "code",
   "execution_count": null,
   "metadata": {},
   "outputs": [],
   "source": [
    "# Calculator\n",
    "\n",
    "\n",
    "# 연산기호 ( + , - , * , /, %, **)\n"
   ]
  },
  {
   "cell_type": "code",
   "execution_count": 7,
   "metadata": {},
   "outputs": [
    {
     "data": {
      "text/plain": [
       "True"
      ]
     },
     "execution_count": 7,
     "metadata": {},
     "output_type": "execute_result"
    }
   ],
   "source": [
    "# True or False\n",
    "\n",
    "# 1 또는 0을 \"True/False\" 로 출력하고자 하는 경우\n",
    "bool(1)\n",
    "\n",
    "# 주석을 여러 줄로 쓰는 경우 작은 따옴표 ( ' ) 세개를 써서 시작과 끝을 구분\n",
    "''''sadadasdasd\n",
    "adsdasd\n",
    "asdasdasdasda\n",
    "adsasdas\n",
    "'''\n",
    "\n",
    "#참 거짓을 정수로 뽑고싶은 경우 int( ) 함수 사용\n",
    "int(True)"
   ]
  },
  {
   "cell_type": "code",
   "execution_count": 18,
   "metadata": {},
   "outputs": [],
   "source": [
    "# 일반 문자열 (string)\n",
    "종목코드 = 'A005930'\n",
    "종목명 ='삼성전자'\n",
    "종가 = '42000'"
   ]
  },
  {
   "cell_type": "code",
   "execution_count": 21,
   "metadata": {},
   "outputs": [
    {
     "data": {
      "text/plain": [
       "42000.0"
      ]
     },
     "execution_count": 21,
     "metadata": {},
     "output_type": "execute_result"
    }
   ],
   "source": [
    "float(종가)"
   ]
  },
  {
   "cell_type": "code",
   "execution_count": 26,
   "metadata": {},
   "outputs": [],
   "source": [
    "# List  [ ]  , Tuple  ( )  , Dictionary  { }\n",
    "RQP = []\n",
    "#RQP = ()\n",
    "#RQP = {}"
   ]
  },
  {
   "cell_type": "code",
   "execution_count": 44,
   "metadata": {},
   "outputs": [],
   "source": [
    "RQP = [종목코드, 종목명, 종가]   # List"
   ]
  },
  {
   "cell_type": "code",
   "execution_count": 45,
   "metadata": {},
   "outputs": [
    {
     "data": {
      "text/plain": [
       "'A005930'"
      ]
     },
     "execution_count": 45,
     "metadata": {},
     "output_type": "execute_result"
    }
   ],
   "source": [
    "RQP[0]"
   ]
  },
  {
   "cell_type": "code",
   "execution_count": 43,
   "metadata": {},
   "outputs": [
    {
     "data": {
      "text/plain": [
       "'삼성전자'"
      ]
     },
     "execution_count": 43,
     "metadata": {},
     "output_type": "execute_result"
    }
   ],
   "source": [
    "RQP[1]"
   ]
  },
  {
   "cell_type": "code",
   "execution_count": 47,
   "metadata": {},
   "outputs": [
    {
     "data": {
      "text/plain": [
       "42000"
      ]
     },
     "execution_count": 47,
     "metadata": {},
     "output_type": "execute_result"
    }
   ],
   "source": [
    "int(RQP[2])"
   ]
  },
  {
   "cell_type": "code",
   "execution_count": 48,
   "metadata": {},
   "outputs": [
    {
     "data": {
      "text/plain": [
       "'42000'"
      ]
     },
     "execution_count": 48,
     "metadata": {},
     "output_type": "execute_result"
    }
   ],
   "source": [
    "RQP[-1]"
   ]
  },
  {
   "cell_type": "code",
   "execution_count": 33,
   "metadata": {},
   "outputs": [
    {
     "data": {
      "text/plain": [
       "['A005930', '삼성전자']"
      ]
     },
     "execution_count": 33,
     "metadata": {},
     "output_type": "execute_result"
    }
   ],
   "source": [
    "RQP"
   ]
  },
  {
   "cell_type": "code",
   "execution_count": 35,
   "metadata": {},
   "outputs": [],
   "source": [
    "RQP = {'종목코드'  : 'A005930' , '종목명' :  '삼성전자', '종가' : 42000}   #DIct"
   ]
  },
  {
   "cell_type": "code",
   "execution_count": 36,
   "metadata": {},
   "outputs": [
    {
     "data": {
      "text/plain": [
       "{'종목코드': 'A005930', '종목명': '삼성전자', '종가': 42000}"
      ]
     },
     "execution_count": 36,
     "metadata": {},
     "output_type": "execute_result"
    }
   ],
   "source": [
    "RQP"
   ]
  },
  {
   "cell_type": "code",
   "execution_count": 39,
   "metadata": {},
   "outputs": [
    {
     "data": {
      "text/plain": [
       "'A005930'"
      ]
     },
     "execution_count": 39,
     "metadata": {},
     "output_type": "execute_result"
    }
   ],
   "source": [
    "RQP['종목코드']"
   ]
  },
  {
   "cell_type": "code",
   "execution_count": 49,
   "metadata": {},
   "outputs": [],
   "source": [
    "RQP = {'종목코드'  : 'A005930' , '종목명' :  '삼성전자', '종가' : 42000}   #DIct\n",
    "list_sample = ['순이익']"
   ]
  },
  {
   "cell_type": "code",
   "execution_count": 50,
   "metadata": {},
   "outputs": [],
   "source": [
    "list_sample.append(RQP)"
   ]
  },
  {
   "cell_type": "code",
   "execution_count": 52,
   "metadata": {},
   "outputs": [
    {
     "data": {
      "text/plain": [
       "['순이익', {'종목코드': 'A005930', '종목명': '삼성전자', '종가': 42000}]"
      ]
     },
     "execution_count": 52,
     "metadata": {},
     "output_type": "execute_result"
    }
   ],
   "source": [
    "list_sample"
   ]
  },
  {
   "cell_type": "code",
   "execution_count": 53,
   "metadata": {},
   "outputs": [],
   "source": [
    "RQP['순이익'] = 3000000000"
   ]
  },
  {
   "cell_type": "code",
   "execution_count": 54,
   "metadata": {},
   "outputs": [
    {
     "data": {
      "text/plain": [
       "{'종목코드': 'A005930', '종목명': '삼성전자', '종가': 42000, '순이익': 3000000000}"
      ]
     },
     "execution_count": 54,
     "metadata": {},
     "output_type": "execute_result"
    }
   ],
   "source": [
    "RQP"
   ]
  },
  {
   "cell_type": "code",
   "execution_count": null,
   "metadata": {},
   "outputs": [],
   "source": [
    "# append\n",
    "RQP.append('차차')"
   ]
  },
  {
   "cell_type": "code",
   "execution_count": null,
   "metadata": {},
   "outputs": [],
   "source": [
    "RQP"
   ]
  },
  {
   "cell_type": "markdown",
   "metadata": {},
   "source": [
    "* \"for\" : 반복 작업을 위한 명령문\n",
    "   주로 \" for i in ~~ \" 과 같은 형태로 사용. 뜻은 \" 의 크기만큼 반복\"하란 얘기"
   ]
  },
  {
   "cell_type": "code",
   "execution_count": 4,
   "metadata": {},
   "outputs": [
    {
     "name": "stdout",
     "output_type": "stream",
     "text": [
      "1\n",
      "6\n"
     ]
    }
   ],
   "source": [
    "# Loop\n",
    "#for i in range(10):  # range는 범위를 의미 range(10) 은 0부터 10 이전까지의 정수, 즉 0, 1, 2 ... 9 까지의 수를 의미. 파이썬에서 범위를 표현할때는 시작은 포함, 끝은 미포함.\n",
    "#for i in range(1,10):\n",
    "#for i in range(1, 11):\n",
    "for i in range(1, 10, 5):    # 처음은 시작하는 수, 두번째는 마지막보다 하나 더 큰수, 세번째는 간격을 의미\n",
    "    print(i)"
   ]
  },
  {
   "cell_type": "code",
   "execution_count": 7,
   "metadata": {},
   "outputs": [],
   "source": [
    "numbers = []\n",
    "for i in range(10):\n",
    "    if i %3 == 0:\n",
    "        pass\n",
    "    else:\n",
    "        numbers.append(i*2)  # list로 설정된 변수 뒤에  \"  .append ( ) \"   라고 적으면 그 괄호 안의 값을 list로 설정한 변수 안에 추가하게 됨 "
   ]
  },
  {
   "cell_type": "code",
   "execution_count": 8,
   "metadata": {},
   "outputs": [
    {
     "data": {
      "text/plain": [
       "[2, 4, 8, 10, 14, 16]"
      ]
     },
     "execution_count": 8,
     "metadata": {},
     "output_type": "execute_result"
    }
   ],
   "source": [
    "numbers"
   ]
  },
  {
   "cell_type": "code",
   "execution_count": 2,
   "metadata": {},
   "outputs": [],
   "source": [
    "# List comprehension\n",
    "numbers_new = [i*2 for i in range(10)]  # 고급진 표현......"
   ]
  },
  {
   "cell_type": "code",
   "execution_count": null,
   "metadata": {},
   "outputs": [],
   "source": [
    "numbers_new"
   ]
  },
  {
   "cell_type": "code",
   "execution_count": 12,
   "metadata": {},
   "outputs": [
    {
     "name": "stdout",
     "output_type": "stream",
     "text": [
      "Not a group\n"
     ]
    }
   ],
   "source": [
    "# Condition\n",
    "rqp = 'group'\n",
    "rqp = 'no group'\n",
    "if rqp == 'group':\n",
    "    print(\"I'm group\")\n",
    "else:\n",
    "    print(\"Not a group\")"
   ]
  },
  {
   "cell_type": "code",
   "execution_count": 11,
   "metadata": {},
   "outputs": [],
   "source": [
    "# Example : Condition & Loop \n",
    "# 1부터 20까지의 정수 중 4의 배수만 프린트\n",
    "\n",
    "def custom(start, end, n):\n",
    "    a = []\n",
    "    for i in range(start, end +1):\n",
    "        if i % n == 0:\n",
    "            a.append(i)\n",
    "    return a\n",
    "\n",
    "answer = custom(1,20,3)"
   ]
  },
  {
   "cell_type": "code",
   "execution_count": 12,
   "metadata": {},
   "outputs": [
    {
     "data": {
      "text/plain": [
       "[3, 6, 9, 12, 15, 18]"
      ]
     },
     "execution_count": 12,
     "metadata": {},
     "output_type": "execute_result"
    }
   ],
   "source": [
    "answer"
   ]
  },
  {
   "cell_type": "markdown",
   "metadata": {},
   "source": [
    "### List, Function, Package, Numpy 부분은 강의 참고 (Preliminaries #3)\n",
    "#### 1. List : 리스트 안에서의 위치에 기반하여 값을 불러오는 Slicing..\n",
    "#### 2. Function : Customized function 만들기\n",
    "#### 3. Package : Numpy, Pandas, Matplotlib, datetime, Tensorflow.. 등등의 패키지 불러오기\n",
    "#### 4. Numpy : Numerical? Python?"
   ]
  },
  {
   "cell_type": "code",
   "execution_count": 13,
   "metadata": {},
   "outputs": [],
   "source": [
    "import numpy as np\n",
    "import pandas as pd\n",
    "\n",
    "\n",
    "# Exercise. n의 약수 print 하는 함수 만들기\n",
    "\n",
    "def get_divisor(number):\n",
    "    \n",
    "    # write your code here\n",
    "    \n",
    "    print()"
   ]
  },
  {
   "cell_type": "code",
   "execution_count": null,
   "metadata": {},
   "outputs": [],
   "source": [
    "# Exercise. 합집합 & 교집합 함수 만들기\n",
    "\n",
    "def get_union(set_a, set_b):\n",
    "     # write your code here\n",
    "        \n",
    "        \n",
    "    return\n",
    "\n",
    "def get_intersection(set_a, set_b):\n",
    "    # write your code here\n",
    "    \n",
    "    \n",
    "    return"
   ]
  },
  {
   "cell_type": "code",
   "execution_count": null,
   "metadata": {},
   "outputs": [],
   "source": [
    "a = [1, 1, 2, 3, 5, 8, 13, 21, 34, 46, 56, 88, 91]\n",
    "b = [1, 2, 3, 4, 5, 6, 7, 8, 21, 22, 45, 91]\n",
    "\n",
    "print(\"a와 b의 합집합은 : \", get_union(a, b) )\n",
    "print(\"a와 b의 교집합은 : \", get_intersection(a,b))"
   ]
  },
  {
   "cell_type": "code",
   "execution_count": null,
   "metadata": {},
   "outputs": [],
   "source": [
    "# Find Union\n",
    "def uni(a,b):\n",
    "   set1 = set(a)\n",
    "   set2 = set(b)\n",
    "   print('All list: ', sorted(set1.union(set2)))\n",
    "\n",
    "# Find intersection\n",
    "def inter(a,b):\n",
    "   set1 = set(a)\n",
    "   set2 = set(b)\n",
    "   print('Common list: ', sorted(set1.intersection(set2)))"
   ]
  },
  {
   "cell_type": "code",
   "execution_count": null,
   "metadata": {},
   "outputs": [],
   "source": [
    "uni(a,b)"
   ]
  },
  {
   "cell_type": "code",
   "execution_count": null,
   "metadata": {},
   "outputs": [],
   "source": [
    "inter(a,b)"
   ]
  },
  {
   "cell_type": "code",
   "execution_count": null,
   "metadata": {},
   "outputs": [],
   "source": [
    "# 난수 생성하기 (Numpy 이용)\n",
    "data = np.random.randn(2, 2)\n",
    "print(data)"
   ]
  },
  {
   "cell_type": "code",
   "execution_count": null,
   "metadata": {},
   "outputs": [],
   "source": [
    "# 참고용\n",
    "import numpy as np\n",
    "\n",
    "def list_a(n):  # n의 약수만 담아서 리스트로 출력하는 함수\n",
    "    a = []\n",
    "    for x in range(1,n+1):\n",
    "        if n%x == 0:\n",
    "            a.append(x)\n",
    "    return a\n",
    "    \n",
    "    \n",
    "# Func. Value weighted average return\n",
    "def vwav(comsize, comreturn):\n",
    "    c_size = np.array(comsize)\n",
    "    c_size.shape = (1,np.size(c_size))\n",
    "    c_return = np.array(comreturn)\n",
    "    c_return.shape = (np.size(c_return),1)\n",
    "    sum_size = c_size.sum()\n",
    "    rel_size = c_size / sum_size\n",
    "    wav = np.dot(rel_size,c_return)\n",
    "    return wav"
   ]
  }
 ],
 "metadata": {
  "kernelspec": {
   "display_name": "Python 3",
   "language": "python",
   "name": "python3"
  },
  "language_info": {
   "codemirror_mode": {
    "name": "ipython",
    "version": 3
   },
   "file_extension": ".py",
   "mimetype": "text/x-python",
   "name": "python",
   "nbconvert_exporter": "python",
   "pygments_lexer": "ipython3",
   "version": "3.6.5"
  }
 },
 "nbformat": 4,
 "nbformat_minor": 2
}
