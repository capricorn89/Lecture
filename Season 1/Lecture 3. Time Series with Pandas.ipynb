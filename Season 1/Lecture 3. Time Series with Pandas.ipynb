{
 "cells": [
  {
   "cell_type": "markdown",
   "metadata": {},
   "source": [
    "## Time Series with Pandas\n",
    "\n",
    "- 시계열 데이터 특성 : 시계열 데이터는 시간 데이터를 인덱스로 하는 연속된 데이터임. 데이터 자체를 DateTime타입으로 바꿔서 작업하게 됨.\n",
    "- DateTime : 시간이나 날짜 정보는 인덱스인 경우가 많고, 통일도 잘 안되있는 경우가 더러 있음. 판다스에 내장된 기능들로 DateTime으로 다룸\n",
    "- Resample : 시계열 데이터 인덱스는 작은 단위로도 이루어진 경우도 있음. 더 넓은 주기로 집계하기 위해서 Time Resampling 이 필요함. Groupby로도 가능하지만 비즈니스 도메인에서 분기나 회계년도를 편리하게 처리하기 어려움. 판다스는 이런 경우에 활용할 수 있는 프리퀀시 샘플링 도구를 지원. 나라마다 주말이 다를 수도 있기 때문에 계산할 때도 타임 리샘플링을 하면 편리하게 사용할 수 있음\n",
    "- Rolling and Expanding : Rolling 함수를 이용해서 주어진 구간 내 평균 등 계산. 임의 시간 간격의 window를 만들고 그 안에서 평균 등의 통계적 aggregation을 실행.\n"
   ]
  },
  {
   "cell_type": "code",
   "execution_count": null,
   "metadata": {},
   "outputs": [],
   "source": [
    "from datetime import datetime\n",
    "import pandas as pd"
   ]
  },
  {
   "cell_type": "code",
   "execution_count": 1,
   "metadata": {
    "scrolled": true
   },
   "outputs": [
    {
     "ename": "NameError",
     "evalue": "name 'datetime' is not defined",
     "output_type": "error",
     "traceback": [
      "\u001b[1;31m---------------------------------------------------------------------------\u001b[0m",
      "\u001b[1;31mNameError\u001b[0m                                 Traceback (most recent call last)",
      "\u001b[1;32m<ipython-input-1-5d9ff64968ae>\u001b[0m in \u001b[0;36m<module>\u001b[1;34m\u001b[0m\n\u001b[1;32m----> 1\u001b[1;33m \u001b[0mright_now\u001b[0m \u001b[1;33m=\u001b[0m \u001b[0mdatetime\u001b[0m\u001b[1;33m(\u001b[0m\u001b[0myear\u001b[0m\u001b[1;33m,\u001b[0m \u001b[0mmonth\u001b[0m\u001b[1;33m,\u001b[0m \u001b[0mday\u001b[0m\u001b[1;33m,\u001b[0m \u001b[0mhour\u001b[0m\u001b[1;33m,\u001b[0m \u001b[0mminute\u001b[0m\u001b[1;33m,\u001b[0m \u001b[0msecond\u001b[0m\u001b[1;33m)\u001b[0m\u001b[1;33m\u001b[0m\u001b[1;33m\u001b[0m\u001b[0m\n\u001b[0m",
      "\u001b[1;31mNameError\u001b[0m: name 'datetime' is not defined"
     ]
    }
   ],
   "source": [
    "right_now = datetime(year, month, day, hour, minute, second)"
   ]
  },
  {
   "cell_type": "markdown",
   "metadata": {},
   "source": [
    "### Time Resampling\n",
    "\n",
    "이전에 Anaconda prompt 에서 Quandl 설치, Quandl API를 받아야 주가데이터를 받아올수있음"
   ]
  },
  {
   "cell_type": "code",
   "execution_count": 2,
   "metadata": {},
   "outputs": [],
   "source": [
    "import quandl\n",
    "quandl.ApiConfig.api_key = \"4_QsK3sYLPGC7b6SCKQX\"\n",
    "\n",
    "start=\"2001-12-31\"\n",
    "end=\"2019-04-30\""
   ]
  },
  {
   "cell_type": "code",
   "execution_count": null,
   "metadata": {},
   "outputs": [],
   "source": [
    "data = quandl.get([\"UMICH/SOC1\", \"MULTPL/SP500_PE_RATIO_MONTH\"], start_date=start, end_date=end)\n",
    "# University of Michigan Consumer Survey, Index of Consumer Sentiment\n",
    "# S&P 500 PE Ratio by Month"
   ]
  },
  {
   "cell_type": "code",
   "execution_count": null,
   "metadata": {},
   "outputs": [],
   "source": [
    "data.set_index('Date', inplace = True)"
   ]
  },
  {
   "cell_type": "code",
   "execution_count": null,
   "metadata": {},
   "outputs": [],
   "source": [
    "data.resample('Y').mean()"
   ]
  }
 ],
 "metadata": {
  "kernelspec": {
   "display_name": "Python 3",
   "language": "python",
   "name": "python3"
  },
  "language_info": {
   "codemirror_mode": {
    "name": "ipython",
    "version": 3
   },
   "file_extension": ".py",
   "mimetype": "text/x-python",
   "name": "python",
   "nbconvert_exporter": "python",
   "pygments_lexer": "ipython3",
   "version": "3.7.1"
  }
 },
 "nbformat": 4,
 "nbformat_minor": 2
}
