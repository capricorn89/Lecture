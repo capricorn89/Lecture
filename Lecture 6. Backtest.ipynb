{
 "cells": [
  {
   "cell_type": "code",
   "execution_count": null,
   "metadata": {},
   "outputs": [],
   "source": [
    "import os\n",
    "import pandas as pd\n",
    "import numpy as np\n",
    "import datetime"
   ]
  },
  {
   "cell_type": "code",
   "execution_count": null,
   "metadata": {},
   "outputs": [],
   "source": [
    "rebalData =   # 전체 리밸런싱 스케줄 불러오기\n",
    "priceData =   # 전체 가격 데이터 불러오기"
   ]
  },
  {
   "cell_type": "code",
   "execution_count": null,
   "metadata": {},
   "outputs": [],
   "source": [
    "# 가격데이터가 이미 업로드되어 있다는 전제하에 실행가능한 함수\n",
    "\n",
    "def get_stock_price(stockCodes, date_start, date_end):\n",
    "    \n",
    "    \n",
    "    return stock_price\n",
    "\n",
    "\n",
    "def get_basket_history(stockCodes, numStock, date_start, date_end):\n",
    "    basketPriceData =  get_stock_price(stockCodes, date_start, date_end).fillna(0)\n",
    "    dates = basketPriceData.index\n",
    "    basket_history = basketPriceData[stockCodes].values.dot(numStock)    \n",
    "    basket_history = pd.DataFrame(priceHistory, index = dates)\n",
    "    return basket_history\n"
   ]
  },
  {
   "cell_type": "code",
   "execution_count": null,
   "metadata": {},
   "outputs": [],
   "source": [
    "dollar_inv = 100\n",
    "dollar_ongoing = 100\n",
    "tradeCose = 0.008\n",
    "basket_history = {}\n",
    "rebal_date = list(set(rebalData.date))\n",
    "rebal_date.sort()\n",
    "tradeCost_history = {}\n",
    "turnover_history = {}\n",
    "weight_history = {}\n",
    "inv_money_list = [dollar_inv]   \n",
    "inv_money_date = [rebal_date[0]]"
   ]
  },
  {
   "cell_type": "code",
   "execution_count": null,
   "metadata": {},
   "outputs": [],
   "source": [
    "for i in range(len(rebal_date)-1):\n",
    "   \n",
    "    stock_list_i = rebalData[rebalData['date'] == rebal_date[i]].code  # 기간별 종목 리스트 \n",
    "    w_ = rebalData[rebalData.date == rebal_date[i]].weight \n",
    "    \n",
    "    weightData = pd.concat([stock_list_i, w_], axis = 1).set_index('code')        \n",
    "\n",
    "    if i == 0:\n",
    "        weightData['money'] = weightData['weight'] * dollar_inv  # 1기인 경우 초기 투자금으로 시작\n",
    "    else:\n",
    "        weightData['money'] = weightData['weight'] * dollar_ongoing # 1기 이후는 투자금의 매 기간별 마지막 시점에서의 금액 재투자            \n",
    "\n",
    "    stock_price_ = get_stock_price(stock_list_i, rebal_date[i], rebal_date[i]).transpose()  # 해당 일자의 바스켓의 주가 추출     \n",
    "\n",
    "    weightData = pd.merge(weightData, stock_price_, how = 'inner', left_on= weightData.index, \n",
    "                          right_on = stock_price_.index).set_index('key_0')\n",
    "\n",
    "    weightData.columns = ['weight', 'money', 'price']\n",
    "    weightData['n_stocks'] = weightData['money'] / weightData['price']\n",
    "\n",
    "    basket_price = basket_history(weightData.index.values, weightData['n_stocks'].values, rebal_date[i], rebal_date[i+1])     \n",
    "\n",
    "    dollar_ongoing = basket_price.iloc[-1,:].values[0]  # 투자금의 매 기간별 마지막 시점에서의 포트의 가치(금액)\n",
    "\n",
    "    # 투자기간 마지막 시점 (다음리밸 시점과 동일) 에서의 가격\n",
    "    last_price = get_stock_price(weightData.index.values, rebal_date[i+1], rebal_date[i+1]).transpose()  \n",
    "\n",
    "    weightData = pd.merge(weightData, last_price, how = 'inner', \n",
    "                          left_on = weightData.index, right_on = last_price.index).set_index('key_0')\n",
    "\n",
    "    weightData.columns = ['weight', 'money', 'price', 'n_stocks', 'last_price']\n",
    "\n",
    "    weightData['last_weight'] = (weightData['last_price'] * weightData['n_stocks']) / (weightData['last_price'] * weightData['n_stocks']).sum()  # 투자기간의 마지막 시점에서의 비중         \n",
    "    weightData['new_weight'] = rebalData[rebalData['date'] == rebal_date[i+1]].set_index('code')['weight']  # 새로운 비중            \n",
    "    tradingCost = np.abs(weightData['new_weight'] - weightData['last_weight']).sum() * tradeCost * dollar_ongoing\n",
    "\n",
    "    dollar_ongoing -= tradingCost     \n",
    "\n",
    "    inv_money_list += list(basket_price.values.squeeze()[1:-1])\n",
    "    inv_money_list += [dollar_ongoing]\n",
    "\n",
    "    inv_money_date += list(basket_price.index[1:])  \n",
    "    \n",
    "    basket_history[rebalDate] = basket_price\n",
    "    tradeCost_history[''.join([x for x in str(rebal_date[i+1])[:10] if x != '-'])] = tradingCost\n",
    "    turnover_history[''.join([x for x in str(rebal_date[i+1])[:10] if x != '-'])] = tradingCost / dollar_ongoing\n",
    "    weight_history[''.join([x for x in str(rebal_date[i+1])[:10] if x != '-'])] = weightData\n"
   ]
  },
  {
   "cell_type": "code",
   "execution_count": null,
   "metadata": {},
   "outputs": [],
   "source": [
    "inv_money_history = pd.DataFrame(inv_money_list, index = inv_money_date) "
   ]
  }
 ],
 "metadata": {
  "kernelspec": {
   "display_name": "Python 3",
   "language": "python",
   "name": "python3"
  },
  "language_info": {
   "codemirror_mode": {
    "name": "ipython",
    "version": 3
   },
   "file_extension": ".py",
   "mimetype": "text/x-python",
   "name": "python",
   "nbconvert_exporter": "python",
   "pygments_lexer": "ipython3",
   "version": "3.7.1"
  }
 },
 "nbformat": 4,
 "nbformat_minor": 2
}
